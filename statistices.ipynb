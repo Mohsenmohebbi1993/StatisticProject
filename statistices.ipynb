{
 "cells": [
  {
   "cell_type": "markdown",
   "metadata": {},
   "source": [
    "https://python.quantecon.org/prob_matrix.html\n",
    "\n",
    "https://github.com/tirthajyoti/Stats-Maths-with-Python/blob/master/Prob_Distributions_Discrete.ipynb\n",
    "\n",
    "https://gist.github.com/pb111\n",
    "\n",
    "https://www.w3schools.com/python/numpy/numpy_random.asp"
   ]
  },
  {
   "cell_type": "code",
   "execution_count": 29,
   "metadata": {},
   "outputs": [],
   "source": [
    "\n",
    "import statistics\n",
    "import numpy as np\n",
    "import pandas as pd \n",
    "from math import isnan\n",
    "from itertools import filterfalse\n",
    "import matplotlib.pyplot as plt\n",
    "import seaborn as sns\n",
    "\n"
   ]
  },
  {
   "cell_type": "code",
   "execution_count": 7,
   "metadata": {},
   "outputs": [],
   "source": [
    "df=pd.read_csv(\"insurance.csv\")\n"
   ]
  },
  {
   "cell_type": "code",
   "execution_count": 8,
   "metadata": {},
   "outputs": [
    {
     "data": {
      "text/html": [
       "<div>\n",
       "<style scoped>\n",
       "    .dataframe tbody tr th:only-of-type {\n",
       "        vertical-align: middle;\n",
       "    }\n",
       "\n",
       "    .dataframe tbody tr th {\n",
       "        vertical-align: top;\n",
       "    }\n",
       "\n",
       "    .dataframe thead th {\n",
       "        text-align: right;\n",
       "    }\n",
       "</style>\n",
       "<table border=\"1\" class=\"dataframe\">\n",
       "  <thead>\n",
       "    <tr style=\"text-align: right;\">\n",
       "      <th></th>\n",
       "      <th>age</th>\n",
       "      <th>sex</th>\n",
       "      <th>bmi</th>\n",
       "      <th>children</th>\n",
       "      <th>smoker</th>\n",
       "      <th>region</th>\n",
       "      <th>charges</th>\n",
       "    </tr>\n",
       "  </thead>\n",
       "  <tbody>\n",
       "    <tr>\n",
       "      <th>0</th>\n",
       "      <td>19</td>\n",
       "      <td>female</td>\n",
       "      <td>27.900</td>\n",
       "      <td>0</td>\n",
       "      <td>yes</td>\n",
       "      <td>southwest</td>\n",
       "      <td>16884.92400</td>\n",
       "    </tr>\n",
       "    <tr>\n",
       "      <th>1</th>\n",
       "      <td>18</td>\n",
       "      <td>male</td>\n",
       "      <td>33.770</td>\n",
       "      <td>1</td>\n",
       "      <td>no</td>\n",
       "      <td>southeast</td>\n",
       "      <td>1725.55230</td>\n",
       "    </tr>\n",
       "    <tr>\n",
       "      <th>2</th>\n",
       "      <td>28</td>\n",
       "      <td>male</td>\n",
       "      <td>33.000</td>\n",
       "      <td>3</td>\n",
       "      <td>no</td>\n",
       "      <td>southeast</td>\n",
       "      <td>4449.46200</td>\n",
       "    </tr>\n",
       "    <tr>\n",
       "      <th>3</th>\n",
       "      <td>33</td>\n",
       "      <td>male</td>\n",
       "      <td>22.705</td>\n",
       "      <td>0</td>\n",
       "      <td>no</td>\n",
       "      <td>northwest</td>\n",
       "      <td>21984.47061</td>\n",
       "    </tr>\n",
       "    <tr>\n",
       "      <th>4</th>\n",
       "      <td>32</td>\n",
       "      <td>male</td>\n",
       "      <td>28.880</td>\n",
       "      <td>0</td>\n",
       "      <td>no</td>\n",
       "      <td>northwest</td>\n",
       "      <td>3866.85520</td>\n",
       "    </tr>\n",
       "    <tr>\n",
       "      <th>...</th>\n",
       "      <td>...</td>\n",
       "      <td>...</td>\n",
       "      <td>...</td>\n",
       "      <td>...</td>\n",
       "      <td>...</td>\n",
       "      <td>...</td>\n",
       "      <td>...</td>\n",
       "    </tr>\n",
       "    <tr>\n",
       "      <th>1333</th>\n",
       "      <td>50</td>\n",
       "      <td>male</td>\n",
       "      <td>30.970</td>\n",
       "      <td>3</td>\n",
       "      <td>no</td>\n",
       "      <td>northwest</td>\n",
       "      <td>10600.54830</td>\n",
       "    </tr>\n",
       "    <tr>\n",
       "      <th>1334</th>\n",
       "      <td>18</td>\n",
       "      <td>female</td>\n",
       "      <td>31.920</td>\n",
       "      <td>0</td>\n",
       "      <td>no</td>\n",
       "      <td>northeast</td>\n",
       "      <td>2205.98080</td>\n",
       "    </tr>\n",
       "    <tr>\n",
       "      <th>1335</th>\n",
       "      <td>18</td>\n",
       "      <td>female</td>\n",
       "      <td>36.850</td>\n",
       "      <td>0</td>\n",
       "      <td>no</td>\n",
       "      <td>southeast</td>\n",
       "      <td>1629.83350</td>\n",
       "    </tr>\n",
       "    <tr>\n",
       "      <th>1336</th>\n",
       "      <td>21</td>\n",
       "      <td>female</td>\n",
       "      <td>25.800</td>\n",
       "      <td>0</td>\n",
       "      <td>no</td>\n",
       "      <td>southwest</td>\n",
       "      <td>2007.94500</td>\n",
       "    </tr>\n",
       "    <tr>\n",
       "      <th>1337</th>\n",
       "      <td>61</td>\n",
       "      <td>female</td>\n",
       "      <td>29.070</td>\n",
       "      <td>0</td>\n",
       "      <td>yes</td>\n",
       "      <td>northwest</td>\n",
       "      <td>29141.36030</td>\n",
       "    </tr>\n",
       "  </tbody>\n",
       "</table>\n",
       "<p>1338 rows × 7 columns</p>\n",
       "</div>"
      ],
      "text/plain": [
       "      age     sex     bmi  children smoker     region      charges\n",
       "0      19  female  27.900         0    yes  southwest  16884.92400\n",
       "1      18    male  33.770         1     no  southeast   1725.55230\n",
       "2      28    male  33.000         3     no  southeast   4449.46200\n",
       "3      33    male  22.705         0     no  northwest  21984.47061\n",
       "4      32    male  28.880         0     no  northwest   3866.85520\n",
       "...   ...     ...     ...       ...    ...        ...          ...\n",
       "1333   50    male  30.970         3     no  northwest  10600.54830\n",
       "1334   18  female  31.920         0     no  northeast   2205.98080\n",
       "1335   18  female  36.850         0     no  southeast   1629.83350\n",
       "1336   21  female  25.800         0     no  southwest   2007.94500\n",
       "1337   61  female  29.070         0    yes  northwest  29141.36030\n",
       "\n",
       "[1338 rows x 7 columns]"
      ]
     },
     "execution_count": 8,
     "metadata": {},
     "output_type": "execute_result"
    }
   ],
   "source": [
    "df"
   ]
  },
  {
   "cell_type": "code",
   "execution_count": 11,
   "metadata": {},
   "outputs": [
    {
     "name": "stdout",
     "output_type": "stream",
     "text": [
      "<class 'pandas.core.frame.DataFrame'>\n",
      "RangeIndex: 1338 entries, 0 to 1337\n",
      "Data columns (total 7 columns):\n",
      " #   Column    Non-Null Count  Dtype  \n",
      "---  ------    --------------  -----  \n",
      " 0   age       1338 non-null   int64  \n",
      " 1   sex       1338 non-null   object \n",
      " 2   bmi       1338 non-null   float64\n",
      " 3   children  1338 non-null   int64  \n",
      " 4   smoker    1338 non-null   object \n",
      " 5   region    1338 non-null   object \n",
      " 6   charges   1338 non-null   float64\n",
      "dtypes: float64(2), int64(2), object(3)\n",
      "memory usage: 73.3+ KB\n"
     ]
    },
    {
     "data": {
      "text/html": [
       "<div>\n",
       "<style scoped>\n",
       "    .dataframe tbody tr th:only-of-type {\n",
       "        vertical-align: middle;\n",
       "    }\n",
       "\n",
       "    .dataframe tbody tr th {\n",
       "        vertical-align: top;\n",
       "    }\n",
       "\n",
       "    .dataframe thead th {\n",
       "        text-align: right;\n",
       "    }\n",
       "</style>\n",
       "<table border=\"1\" class=\"dataframe\">\n",
       "  <thead>\n",
       "    <tr style=\"text-align: right;\">\n",
       "      <th></th>\n",
       "      <th>age</th>\n",
       "      <th>bmi</th>\n",
       "      <th>children</th>\n",
       "      <th>charges</th>\n",
       "    </tr>\n",
       "  </thead>\n",
       "  <tbody>\n",
       "    <tr>\n",
       "      <th>count</th>\n",
       "      <td>1338.000000</td>\n",
       "      <td>1338.000000</td>\n",
       "      <td>1338.000000</td>\n",
       "      <td>1338.000000</td>\n",
       "    </tr>\n",
       "    <tr>\n",
       "      <th>mean</th>\n",
       "      <td>39.207025</td>\n",
       "      <td>30.663397</td>\n",
       "      <td>1.094918</td>\n",
       "      <td>13270.422265</td>\n",
       "    </tr>\n",
       "    <tr>\n",
       "      <th>std</th>\n",
       "      <td>14.049960</td>\n",
       "      <td>6.098187</td>\n",
       "      <td>1.205493</td>\n",
       "      <td>12110.011237</td>\n",
       "    </tr>\n",
       "    <tr>\n",
       "      <th>min</th>\n",
       "      <td>18.000000</td>\n",
       "      <td>15.960000</td>\n",
       "      <td>0.000000</td>\n",
       "      <td>1121.873900</td>\n",
       "    </tr>\n",
       "    <tr>\n",
       "      <th>25%</th>\n",
       "      <td>27.000000</td>\n",
       "      <td>26.296250</td>\n",
       "      <td>0.000000</td>\n",
       "      <td>4740.287150</td>\n",
       "    </tr>\n",
       "    <tr>\n",
       "      <th>50%</th>\n",
       "      <td>39.000000</td>\n",
       "      <td>30.400000</td>\n",
       "      <td>1.000000</td>\n",
       "      <td>9382.033000</td>\n",
       "    </tr>\n",
       "    <tr>\n",
       "      <th>75%</th>\n",
       "      <td>51.000000</td>\n",
       "      <td>34.693750</td>\n",
       "      <td>2.000000</td>\n",
       "      <td>16639.912515</td>\n",
       "    </tr>\n",
       "    <tr>\n",
       "      <th>max</th>\n",
       "      <td>64.000000</td>\n",
       "      <td>53.130000</td>\n",
       "      <td>5.000000</td>\n",
       "      <td>63770.428010</td>\n",
       "    </tr>\n",
       "  </tbody>\n",
       "</table>\n",
       "</div>"
      ],
      "text/plain": [
       "               age          bmi     children       charges\n",
       "count  1338.000000  1338.000000  1338.000000   1338.000000\n",
       "mean     39.207025    30.663397     1.094918  13270.422265\n",
       "std      14.049960     6.098187     1.205493  12110.011237\n",
       "min      18.000000    15.960000     0.000000   1121.873900\n",
       "25%      27.000000    26.296250     0.000000   4740.287150\n",
       "50%      39.000000    30.400000     1.000000   9382.033000\n",
       "75%      51.000000    34.693750     2.000000  16639.912515\n",
       "max      64.000000    53.130000     5.000000  63770.428010"
      ]
     },
     "execution_count": 11,
     "metadata": {},
     "output_type": "execute_result"
    }
   ],
   "source": [
    "df.info()\n",
    "df.isnull().sum()\n",
    "df.describe()"
   ]
  },
  {
   "cell_type": "code",
   "execution_count": 12,
   "metadata": {},
   "outputs": [],
   "source": [
    "df.dtypes\n",
    "df['sex'].dtypes\n",
    "# converting to binary data\n",
    "df_one = pd.get_dummies(df[\"sex\"])"
   ]
  },
  {
   "cell_type": "code",
   "execution_count": 13,
   "metadata": {},
   "outputs": [
    {
     "data": {
      "text/html": [
       "<div>\n",
       "<style scoped>\n",
       "    .dataframe tbody tr th:only-of-type {\n",
       "        vertical-align: middle;\n",
       "    }\n",
       "\n",
       "    .dataframe tbody tr th {\n",
       "        vertical-align: top;\n",
       "    }\n",
       "\n",
       "    .dataframe thead th {\n",
       "        text-align: right;\n",
       "    }\n",
       "</style>\n",
       "<table border=\"1\" class=\"dataframe\">\n",
       "  <thead>\n",
       "    <tr style=\"text-align: right;\">\n",
       "      <th></th>\n",
       "      <th>female</th>\n",
       "      <th>male</th>\n",
       "    </tr>\n",
       "  </thead>\n",
       "  <tbody>\n",
       "    <tr>\n",
       "      <th>0</th>\n",
       "      <td>True</td>\n",
       "      <td>False</td>\n",
       "    </tr>\n",
       "    <tr>\n",
       "      <th>1</th>\n",
       "      <td>False</td>\n",
       "      <td>True</td>\n",
       "    </tr>\n",
       "    <tr>\n",
       "      <th>2</th>\n",
       "      <td>False</td>\n",
       "      <td>True</td>\n",
       "    </tr>\n",
       "    <tr>\n",
       "      <th>3</th>\n",
       "      <td>False</td>\n",
       "      <td>True</td>\n",
       "    </tr>\n",
       "    <tr>\n",
       "      <th>4</th>\n",
       "      <td>False</td>\n",
       "      <td>True</td>\n",
       "    </tr>\n",
       "    <tr>\n",
       "      <th>...</th>\n",
       "      <td>...</td>\n",
       "      <td>...</td>\n",
       "    </tr>\n",
       "    <tr>\n",
       "      <th>1333</th>\n",
       "      <td>False</td>\n",
       "      <td>True</td>\n",
       "    </tr>\n",
       "    <tr>\n",
       "      <th>1334</th>\n",
       "      <td>True</td>\n",
       "      <td>False</td>\n",
       "    </tr>\n",
       "    <tr>\n",
       "      <th>1335</th>\n",
       "      <td>True</td>\n",
       "      <td>False</td>\n",
       "    </tr>\n",
       "    <tr>\n",
       "      <th>1336</th>\n",
       "      <td>True</td>\n",
       "      <td>False</td>\n",
       "    </tr>\n",
       "    <tr>\n",
       "      <th>1337</th>\n",
       "      <td>True</td>\n",
       "      <td>False</td>\n",
       "    </tr>\n",
       "  </tbody>\n",
       "</table>\n",
       "<p>1338 rows × 2 columns</p>\n",
       "</div>"
      ],
      "text/plain": [
       "      female   male\n",
       "0       True  False\n",
       "1      False   True\n",
       "2      False   True\n",
       "3      False   True\n",
       "4      False   True\n",
       "...      ...    ...\n",
       "1333   False   True\n",
       "1334    True  False\n",
       "1335    True  False\n",
       "1336    True  False\n",
       "1337    True  False\n",
       "\n",
       "[1338 rows x 2 columns]"
      ]
     },
     "execution_count": 13,
     "metadata": {},
     "output_type": "execute_result"
    }
   ],
   "source": [
    "df_one"
   ]
  },
  {
   "cell_type": "code",
   "execution_count": 18,
   "metadata": {},
   "outputs": [
    {
     "name": "stdout",
     "output_type": "stream",
     "text": [
      "The average of list values is : 13270.422265141257\n"
     ]
    },
    {
     "data": {
      "text/plain": [
       "39.20702541106129"
      ]
     },
     "execution_count": 18,
     "metadata": {},
     "output_type": "execute_result"
    }
   ],
   "source": [
    " \n",
    "# using mean() to calculate average of charges\n",
    "print (\"The average of list values is : \",end=\"\") \n",
    "print (statistics.mean(df['charges']))\n",
    "mean_age = df['age'].mean()\n",
    "mean_age"
   ]
  },
  {
   "cell_type": "code",
   "execution_count": 19,
   "metadata": {},
   "outputs": [
    {
     "data": {
      "text/plain": [
       "36.0"
      ]
     },
     "execution_count": 19,
     "metadata": {},
     "output_type": "execute_result"
    }
   ],
   "source": [
    "round(statistics.geometric_mean([54, 24, 36]), 1)"
   ]
  },
  {
   "cell_type": "code",
   "execution_count": null,
   "metadata": {},
   "outputs": [],
   "source": [
    "statistics.harmonic_mean([40, 60], weights=[5, 30])"
   ]
  },
  {
   "cell_type": "code",
   "execution_count": 22,
   "metadata": {},
   "outputs": [
    {
     "data": {
      "text/plain": [
       "4.0"
      ]
     },
     "execution_count": 22,
     "metadata": {},
     "output_type": "execute_result"
    }
   ],
   "source": [
    "median = df['bmi'].median()\n",
    "median\n",
    "statistics.median([1, 3, 5, 7])\n"
   ]
  },
  {
   "cell_type": "code",
   "execution_count": 23,
   "metadata": {},
   "outputs": [
    {
     "data": {
      "text/plain": [
       "5"
      ]
     },
     "execution_count": 23,
     "metadata": {},
     "output_type": "execute_result"
    }
   ],
   "source": [
    "\n",
    "statistics.median_low([1, 3, 5, 7])\n",
    "statistics.median_high([1, 3, 5, 7])"
   ]
  },
  {
   "cell_type": "code",
   "execution_count": null,
   "metadata": {},
   "outputs": [],
   "source": [
    "a=statistics.mode([1, 1, 2, 3, 3, 3, 3, 4])\n",
    "mode_age = df['age'].mode()\n",
    "b=statistics.mode([\"red\", \"blue\", \"blue\", \"red\", \"green\", \"red\", \"red\"])\n",
    "c=statistics.multimode('aabbbbccddddddeeffffgg')\n",
    "print(a,b,c)\n",
    "print('is mode_age',mode_age)"
   ]
  },
  {
   "cell_type": "code",
   "execution_count": null,
   "metadata": {},
   "outputs": [],
   "source": [
    "\n",
    "np.quantile(df['charges'], [0,0.25, 0.5, 0.75,1])\n",
    "\n",
    "\n"
   ]
  },
  {
   "cell_type": "code",
   "execution_count": 36,
   "metadata": {},
   "outputs": [],
   "source": [
    "Q1 = df['charges'].quantile(0.25)\n",
    "Q2 = df['charges'].quantile(0.5)\n",
    "Q3 = df['charges'].quantile(0.75)"
   ]
  },
  {
   "cell_type": "code",
   "execution_count": 37,
   "metadata": {},
   "outputs": [
    {
     "data": {
      "text/plain": [
       "11899.625365"
      ]
     },
     "execution_count": 37,
     "metadata": {},
     "output_type": "execute_result"
    }
   ],
   "source": [
    "\n",
    "IQR = Q3  - Q1\n",
    "\n",
    "IQR"
   ]
  },
  {
   "cell_type": "code",
   "execution_count": 38,
   "metadata": {},
   "outputs": [
    {
     "data": {
      "text/html": [
       "<div>\n",
       "<style scoped>\n",
       "    .dataframe tbody tr th:only-of-type {\n",
       "        vertical-align: middle;\n",
       "    }\n",
       "\n",
       "    .dataframe tbody tr th {\n",
       "        vertical-align: top;\n",
       "    }\n",
       "\n",
       "    .dataframe thead th {\n",
       "        text-align: right;\n",
       "    }\n",
       "</style>\n",
       "<table border=\"1\" class=\"dataframe\">\n",
       "  <thead>\n",
       "    <tr style=\"text-align: right;\">\n",
       "      <th></th>\n",
       "      <th>age</th>\n",
       "      <th>sex</th>\n",
       "      <th>bmi</th>\n",
       "      <th>children</th>\n",
       "      <th>smoker</th>\n",
       "      <th>region</th>\n",
       "      <th>charges</th>\n",
       "    </tr>\n",
       "  </thead>\n",
       "  <tbody>\n",
       "    <tr>\n",
       "      <th>0</th>\n",
       "      <td>19</td>\n",
       "      <td>female</td>\n",
       "      <td>27.900</td>\n",
       "      <td>0</td>\n",
       "      <td>yes</td>\n",
       "      <td>southwest</td>\n",
       "      <td>16884.92400</td>\n",
       "    </tr>\n",
       "    <tr>\n",
       "      <th>1</th>\n",
       "      <td>18</td>\n",
       "      <td>male</td>\n",
       "      <td>33.770</td>\n",
       "      <td>1</td>\n",
       "      <td>no</td>\n",
       "      <td>southeast</td>\n",
       "      <td>1725.55230</td>\n",
       "    </tr>\n",
       "    <tr>\n",
       "      <th>2</th>\n",
       "      <td>28</td>\n",
       "      <td>male</td>\n",
       "      <td>33.000</td>\n",
       "      <td>3</td>\n",
       "      <td>no</td>\n",
       "      <td>southeast</td>\n",
       "      <td>4449.46200</td>\n",
       "    </tr>\n",
       "    <tr>\n",
       "      <th>3</th>\n",
       "      <td>33</td>\n",
       "      <td>male</td>\n",
       "      <td>22.705</td>\n",
       "      <td>0</td>\n",
       "      <td>no</td>\n",
       "      <td>northwest</td>\n",
       "      <td>21984.47061</td>\n",
       "    </tr>\n",
       "    <tr>\n",
       "      <th>4</th>\n",
       "      <td>32</td>\n",
       "      <td>male</td>\n",
       "      <td>28.880</td>\n",
       "      <td>0</td>\n",
       "      <td>no</td>\n",
       "      <td>northwest</td>\n",
       "      <td>3866.85520</td>\n",
       "    </tr>\n",
       "    <tr>\n",
       "      <th>...</th>\n",
       "      <td>...</td>\n",
       "      <td>...</td>\n",
       "      <td>...</td>\n",
       "      <td>...</td>\n",
       "      <td>...</td>\n",
       "      <td>...</td>\n",
       "      <td>...</td>\n",
       "    </tr>\n",
       "    <tr>\n",
       "      <th>1333</th>\n",
       "      <td>50</td>\n",
       "      <td>male</td>\n",
       "      <td>30.970</td>\n",
       "      <td>3</td>\n",
       "      <td>no</td>\n",
       "      <td>northwest</td>\n",
       "      <td>10600.54830</td>\n",
       "    </tr>\n",
       "    <tr>\n",
       "      <th>1334</th>\n",
       "      <td>18</td>\n",
       "      <td>female</td>\n",
       "      <td>31.920</td>\n",
       "      <td>0</td>\n",
       "      <td>no</td>\n",
       "      <td>northeast</td>\n",
       "      <td>2205.98080</td>\n",
       "    </tr>\n",
       "    <tr>\n",
       "      <th>1335</th>\n",
       "      <td>18</td>\n",
       "      <td>female</td>\n",
       "      <td>36.850</td>\n",
       "      <td>0</td>\n",
       "      <td>no</td>\n",
       "      <td>southeast</td>\n",
       "      <td>1629.83350</td>\n",
       "    </tr>\n",
       "    <tr>\n",
       "      <th>1336</th>\n",
       "      <td>21</td>\n",
       "      <td>female</td>\n",
       "      <td>25.800</td>\n",
       "      <td>0</td>\n",
       "      <td>no</td>\n",
       "      <td>southwest</td>\n",
       "      <td>2007.94500</td>\n",
       "    </tr>\n",
       "    <tr>\n",
       "      <th>1337</th>\n",
       "      <td>61</td>\n",
       "      <td>female</td>\n",
       "      <td>29.070</td>\n",
       "      <td>0</td>\n",
       "      <td>yes</td>\n",
       "      <td>northwest</td>\n",
       "      <td>29141.36030</td>\n",
       "    </tr>\n",
       "  </tbody>\n",
       "</table>\n",
       "<p>1199 rows × 7 columns</p>\n",
       "</div>"
      ],
      "text/plain": [
       "      age     sex     bmi  children smoker     region      charges\n",
       "0      19  female  27.900         0    yes  southwest  16884.92400\n",
       "1      18    male  33.770         1     no  southeast   1725.55230\n",
       "2      28    male  33.000         3     no  southeast   4449.46200\n",
       "3      33    male  22.705         0     no  northwest  21984.47061\n",
       "4      32    male  28.880         0     no  northwest   3866.85520\n",
       "...   ...     ...     ...       ...    ...        ...          ...\n",
       "1333   50    male  30.970         3     no  northwest  10600.54830\n",
       "1334   18  female  31.920         0     no  northeast   2205.98080\n",
       "1335   18  female  36.850         0     no  southeast   1629.83350\n",
       "1336   21  female  25.800         0     no  southwest   2007.94500\n",
       "1337   61  female  29.070         0    yes  northwest  29141.36030\n",
       "\n",
       "[1199 rows x 7 columns]"
      ]
     },
     "execution_count": 38,
     "metadata": {},
     "output_type": "execute_result"
    }
   ],
   "source": [
    "df_without_outliers=df[(df['charges']>(Q1-1.5*IQR)) & (df['charges']<(Q3+1.5*IQR))]\n",
    "df_without_outliers"
   ]
  },
  {
   "cell_type": "code",
   "execution_count": 24,
   "metadata": {},
   "outputs": [
    {
     "data": {
      "text/plain": [
       "1.6062986532967907"
      ]
     },
     "execution_count": 24,
     "metadata": {},
     "output_type": "execute_result"
    }
   ],
   "source": [
    "df['charges'].kurtosis()\n"
   ]
  },
  {
   "cell_type": "code",
   "execution_count": 25,
   "metadata": {},
   "outputs": [
    {
     "data": {
      "text/plain": [
       "1.5158796580240388"
      ]
     },
     "execution_count": 25,
     "metadata": {},
     "output_type": "execute_result"
    }
   ],
   "source": [
    "df['charges'].skew()"
   ]
  },
  {
   "cell_type": "code",
   "execution_count": 34,
   "metadata": {},
   "outputs": [
    {
     "data": {
      "text/plain": [
       "<Axes: >"
      ]
     },
     "execution_count": 34,
     "metadata": {},
     "output_type": "execute_result"
    },
    {
     "data": {
      "image/png": "[encoded data removed]",
      "text/plain": [
       "<Figure size 640x480 with 1 Axes>"
      ]
     },
     "metadata": {},
     "output_type": "display_data"
    }
   ],
   "source": [
    "df['charges'].hist()"
   ]
  },
  {
   "cell_type": "code",
   "execution_count": 41,
   "metadata": {},
   "outputs": [
    {
     "data": {
      "image/png": "[encoded data removed]",
      "text/plain": [
       "<Figure size 640x480 with 1 Axes>"
      ]
     },
     "metadata": {},
     "output_type": "display_data"
    }
   ],
   "source": [
    "plt.boxplot(df_without_outliers['charges'])\n",
    "plt.show()"
   ]
  },
  {
   "cell_type": "code",
   "execution_count": 32,
   "metadata": {},
   "outputs": [
    {
     "data": {
      "image/png": "[encoded data removed]",
      "text/plain": [
       "<Figure size 640x480 with 1 Axes>"
      ]
     },
     "metadata": {},
     "output_type": "display_data"
    }
   ],
   "source": [
    "plt.boxplot(df['charges'],)\n",
    "\n",
    "plt.show()"
   ]
  },
  {
   "cell_type": "code",
   "execution_count": 42,
   "metadata": {},
   "outputs": [
    {
     "name": "stdout",
     "output_type": "stream",
     "text": [
      "Maximum = 5, Minimum = 1 and Range = 4\n"
     ]
    }
   ],
   "source": [
    "# Sample Data \n",
    "arr = [1, 2, 3, 4, 5]\n",
    " \n",
    "#Finding Max \n",
    "Maximum = max(arr)\n",
    "# Finding Min \n",
    "Minimum = min(arr) \n",
    " \n",
    "# Difference Of Max and Min\n",
    "Range = Maximum-Minimum     \n",
    "print(\"Maximum = {}, Minimum = {} and Range = {}\".format(\n",
    "    Maximum, Minimum, Range))"
   ]
  },
  {
   "cell_type": "code",
   "execution_count": 43,
   "metadata": {},
   "outputs": [
    {
     "name": "stdout",
     "output_type": "stream",
     "text": [
      "0.986893273527251 1.0810874155219827 0.9739583333333334 1.16875\n"
     ]
    }
   ],
   "source": [
    "a=statistics.pstdev([1.5, 2.5, 2.5, 2.75, 3.25, 4.75])\n",
    "b=statistics.stdev([1.5, 2.5, 2.5, 2.75, 3.25, 4.75])\n",
    "c=statistics.pvariance([1.5, 2.5, 2.5, 2.75, 3.25, 4.75])\n",
    "d=statistics.variance([1.5, 2.5, 2.5, 2.75, 3.25, 4.75])\n",
    "print(a,b,c,d)"
   ]
  },
  {
   "cell_type": "code",
   "execution_count": null,
   "metadata": {},
   "outputs": [],
   "source": [
    "sns.displot(df['charges'], bins=10, hist=True, kde=True, label = 'charges')"
   ]
  },
  {
   "cell_type": "code",
   "execution_count": null,
   "metadata": {},
   "outputs": [],
   "source": [
    "import random\n",
    "\n",
    "sample_size = 1000\n",
    "\n",
    "num_families_at_least_one_girl = 0\n",
    "num_families_two_girls = 0\n",
    "\n",
    "for i in range(sample_size):\n",
    "    first_child = random.choice([\"boy\", \"girl\"])\n",
    "    second_child = random.choice([\"boy\", \"girl\"])\n",
    "    if first_child == \"girl\" or second_child == \"girl\":\n",
    "        num_families_at_least_one_girl += 1\n",
    "        if first_child == \"girl\" and second_child == \"girl\":\n",
    "            num_families_two_girls += 1\n",
    "\n",
    "result = round(num_families_two_girls / num_families_at_least_one_girl, 2)\n",
    "print(f\"Out of {sample_size} families sampled, {num_families_at_least_one_girl} have at least one girl.\")\n",
    "print(f\"Of these {num_families_two_girls} have two girls.\")\n",
    "print(f\"This gives an experimental probability of {result} to two decimal places that,\")\n",
    "print(\"given at least one child is a girl, both children are girls.\")"
   ]
  },
  {
   "cell_type": "code",
   "execution_count": null,
   "metadata": {},
   "outputs": [],
   "source": [
    "#Binomial Random Variable.\n",
    "from scipy import stats\n",
    "X = stats.binom(10, 0.2) # Declare X to be a binomial random variable\n",
    "print(X.pmf(3)) # P(X = 3)\n",
    "print(X.cdf(4)) # P(X <= 4)\n",
    "print(X.mean()) # E[X]\n",
    "print(X.var()) # Var(X)\n",
    "print(X.std()) # Std(X)\n",
    "print(X.rvs()) # Get a random sample from X\n",
    "print(X.rvs(10)) # Get 10 random samples form X"
   ]
  },
  {
   "cell_type": "code",
   "execution_count": null,
   "metadata": {},
   "outputs": [],
   "source": [
    "# Mean of the distribution \n",
    "Mean = 100\n",
    "\n",
    "# satndard deviation of the distribution\n",
    "Standard_deviation  = 5\n",
    " \n",
    "# size\n",
    "size = 100000\n",
    "\n",
    "# creating a normal distribution data\n",
    "values = np.random.normal(Mean, Standard_deviation, size)\n",
    " \n",
    "# plotting histograph\n",
    "plt.hist(values, 100)\n",
    "# plotting mean line\n",
    "plt.axvline(values.mean(), color='k', linestyle='dashed', linewidth=2)\n",
    "plt.show()"
   ]
  },
  {
   "cell_type": "code",
   "execution_count": null,
   "metadata": {},
   "outputs": [],
   "source": [
    "#Poisson Random Variable\n",
    "from scipy import stats\n",
    "Y = stats.poisson(2) # Declare Y as Poi with lambda = 2\n",
    "print(Y.pmf(3)) # P(Y = 3)\n",
    "print(Y.cdf(3)) # P(Y = 3)\n",
    "print(Y.rvs()) # Get a random sample from Y"
   ]
  },
  {
   "cell_type": "code",
   "execution_count": null,
   "metadata": {},
   "outputs": [],
   "source": [
    "import scipy.special as sps \n",
    "shape, scale = 2., 2.  # mean=4, std=2*sqrt(2)\n",
    "s = np.random.gamma(shape, scale, 1000)\n",
    "count, bins, ignored = plt.hist(s, 50, density=True)\n",
    "y = bins**(shape-1)*(np.exp(-bins/scale) /  \n",
    "                     (sps.gamma(shape)*scale**shape))\n",
    "plt.plot(bins, y, linewidth=2, color='r')  \n",
    "plt.show()"
   ]
  },
  {
   "cell_type": "code",
   "execution_count": 9,
   "metadata": {},
   "outputs": [
    {
     "ename": "NameError",
     "evalue": "name 'ax' is not defined",
     "output_type": "error",
     "traceback": [
      "\u001b[1;31m---------------------------------------------------------------------------\u001b[0m",
      "\u001b[1;31mNameError\u001b[0m                                 Traceback (most recent call last)",
      "\u001b[1;32md:\\data\\daneshkar.ipynb Cell 30\u001b[0m line \u001b[0;36m2\n\u001b[0;32m     <a href='vscode-notebook-cell:/d%3A/data/daneshkar.ipynb#X41sZmlsZQ%3D%3D?line=15'>16</a>\u001b[0m fitted_data, fitted_lambda \u001b[39m=\u001b[39m stats\u001b[39m.\u001b[39mboxcox(original_data)\n\u001b[0;32m     <a href='vscode-notebook-cell:/d%3A/data/daneshkar.ipynb#X41sZmlsZQ%3D%3D?line=19'>20</a>\u001b[0m \u001b[39m# plotting the original data(non-normal) and \u001b[39;00m\n\u001b[0;32m     <a href='vscode-notebook-cell:/d%3A/data/daneshkar.ipynb#X41sZmlsZQ%3D%3D?line=20'>21</a>\u001b[0m \u001b[39m# fitted data (normal)\u001b[39;00m\n\u001b[0;32m     <a href='vscode-notebook-cell:/d%3A/data/daneshkar.ipynb#X41sZmlsZQ%3D%3D?line=21'>22</a>\u001b[0m sns\u001b[39m.\u001b[39mdisplot(original_data, \n\u001b[0;32m     <a href='vscode-notebook-cell:/d%3A/data/daneshkar.ipynb#X41sZmlsZQ%3D%3D?line=22'>23</a>\u001b[0m \t\t\tkde_kws \u001b[39m=\u001b[39m {\u001b[39m'\u001b[39m\u001b[39mshade\u001b[39m\u001b[39m'\u001b[39m: \u001b[39mTrue\u001b[39;00m, \u001b[39m'\u001b[39m\u001b[39mlinewidth\u001b[39m\u001b[39m'\u001b[39m: \u001b[39m2\u001b[39m}, \n\u001b[1;32m---> <a href='vscode-notebook-cell:/d%3A/data/daneshkar.ipynb#X41sZmlsZQ%3D%3D?line=23'>24</a>\u001b[0m \t\t\tlabel \u001b[39m=\u001b[39m \u001b[39m\"\u001b[39m\u001b[39mNon-Normal\u001b[39m\u001b[39m\"\u001b[39m, color \u001b[39m=\u001b[39m\u001b[39m\"\u001b[39m\u001b[39mgreen\u001b[39m\u001b[39m\"\u001b[39m, ax \u001b[39m=\u001b[39m ax[\u001b[39m0\u001b[39m])\n\u001b[0;32m     <a href='vscode-notebook-cell:/d%3A/data/daneshkar.ipynb#X41sZmlsZQ%3D%3D?line=25'>26</a>\u001b[0m sns\u001b[39m.\u001b[39mdisplot(fitted_data, \n\u001b[0;32m     <a href='vscode-notebook-cell:/d%3A/data/daneshkar.ipynb#X41sZmlsZQ%3D%3D?line=26'>27</a>\u001b[0m \t\t\tkde_kws \u001b[39m=\u001b[39m {\u001b[39m'\u001b[39m\u001b[39mshade\u001b[39m\u001b[39m'\u001b[39m: \u001b[39mTrue\u001b[39;00m, \u001b[39m'\u001b[39m\u001b[39mlinewidth\u001b[39m\u001b[39m'\u001b[39m: \u001b[39m2\u001b[39m}, \n\u001b[0;32m     <a href='vscode-notebook-cell:/d%3A/data/daneshkar.ipynb#X41sZmlsZQ%3D%3D?line=27'>28</a>\u001b[0m \t\t\tlabel \u001b[39m=\u001b[39m \u001b[39m\"\u001b[39m\u001b[39mNormal\u001b[39m\u001b[39m\"\u001b[39m, color \u001b[39m=\u001b[39m\u001b[39m\"\u001b[39m\u001b[39mgreen\u001b[39m\u001b[39m\"\u001b[39m, ax \u001b[39m=\u001b[39m ax[\u001b[39m1\u001b[39m])\n\u001b[0;32m     <a href='vscode-notebook-cell:/d%3A/data/daneshkar.ipynb#X41sZmlsZQ%3D%3D?line=29'>30</a>\u001b[0m \u001b[39m# adding legends to the subplots\u001b[39;00m\n",
      "\u001b[1;31mNameError\u001b[0m: name 'ax' is not defined"
     ]
    }
   ],
   "source": [
    "# Python3 code to show Box-cox Transformation \n",
    "# of non-normal data\n",
    "\n",
    "# import modules\n",
    "import numpy as np\n",
    "from scipy import stats\n",
    "\n",
    "# plotting modules\n",
    "import seaborn as sns\n",
    "import matplotlib.pyplot as plt\n",
    "\n",
    "# generate non-normal data (exponential)\n",
    "original_data = np.random.exponential(size = 1000)\n",
    "\n",
    "# transform training data & save lambda value\n",
    "fitted_data, fitted_lambda = stats.boxcox(original_data)\n",
    "\n",
    "\n",
    "\n",
    "# plotting the original data(non-normal) and \n",
    "# fitted data (normal)\n",
    "sns.displot(original_data, \n",
    "\t\t\tkde_kws = {'shade': True, 'linewidth': 2}, \n",
    "\t\t\tlabel = \"Non-Normal\", color =\"green\", ax = ax[0])\n",
    "\n",
    "sns.displot(fitted_data, \n",
    "\t\t\tkde_kws = {'shade': True, 'linewidth': 2}, \n",
    "\t\t\tlabel = \"Normal\", color =\"green\", ax = ax[1])\n",
    "\n",
    "# adding legends to the subplots\n",
    "plt.legend(loc = \"upper right\")\n",
    "\n",
    "# rescaling the subplots\n",
    "fig.set_figheight(5)\n",
    "fig.set_figwidth(10)\n",
    "\n",
    "print(f\"Lambda value used for Transformation: {fitted_lambda}\")\n"
   ]
  },
  {
   "cell_type": "code",
   "execution_count": 10,
   "metadata": {},
   "outputs": [
    {
     "ename": "ModuleNotFoundError",
     "evalue": "No module named 'prettytable'",
     "output_type": "error",
     "traceback": [
      "\u001b[1;31m---------------------------------------------------------------------------\u001b[0m",
      "\u001b[1;31mModuleNotFoundError\u001b[0m                       Traceback (most recent call last)",
      "\u001b[1;32md:\\data\\daneshkar.ipynb Cell 32\u001b[0m line \u001b[0;36m1\n\u001b[1;32m----> <a href='vscode-notebook-cell:/d%3A/data/daneshkar.ipynb#X42sZmlsZQ%3D%3D?line=0'>1</a>\u001b[0m \u001b[39mfrom\u001b[39;00m \u001b[39mprettytable\u001b[39;00m \u001b[39mimport\u001b[39;00m prettytable \u001b[39mas\u001b[39;00m pt\n\u001b[0;32m      <a href='vscode-notebook-cell:/d%3A/data/daneshkar.ipynb#X42sZmlsZQ%3D%3D?line=1'>2</a>\u001b[0m \u001b[39mclass\u001b[39;00m \u001b[39mdiscrete_bijoint\u001b[39;00m:\n\u001b[0;32m      <a href='vscode-notebook-cell:/d%3A/data/daneshkar.ipynb#X42sZmlsZQ%3D%3D?line=3'>4</a>\u001b[0m     \u001b[39mdef\u001b[39;00m \u001b[39m__init__\u001b[39m(\u001b[39mself\u001b[39m, f, xs, ys):\n",
      "\u001b[1;31mModuleNotFoundError\u001b[0m: No module named 'prettytable'"
     ]
    }
   ],
   "source": [
    "from prettytable import prettytable as pt\n",
    "class discrete_bijoint:\n",
    "    \n",
    "    def __init__(self, f, xs, ys):\n",
    "        '''initialization\n",
    "        -----------------\n",
    "        parameters:\n",
    "        f: the bivariate joint probability matrix\n",
    "        xs: values of x vector\n",
    "        ys: values of y vector\n",
    "        '''\n",
    "        self.f, self.xs, self.ys = f, xs, ys\n",
    "\n",
    "    def joint_tb(self):\n",
    "        '''print the joint distribution table'''\n",
    "        xs = self.xs\n",
    "        ys = self.ys\n",
    "        f = self.f\n",
    "        jtb = pt.PrettyTable()\n",
    "        jtb.field_names = ['x_value/y_value', *ys, 'marginal sum for x']\n",
    "        for i in range(len(xs)):\n",
    "            jtb.add_row([xs[i], *f[i, :], np.sum(f[i, :])])\n",
    "        jtb.add_row(['marginal_sum for y', *np.sum(f, 0), np.sum(f)])\n",
    "        print(\"\\nThe joint probability distribution for x and y\\n\", jtb)\n",
    "        self.jtb = jtb\n",
    "\n",
    "    def draw(self, n):\n",
    "        '''draw random numbers\n",
    "        ----------------------\n",
    "        parameters:\n",
    "        n: number of random numbers to draw\n",
    "        '''\n",
    "        xs = self.xs\n",
    "        ys = self.ys\n",
    "        f_cum = np.cumsum(self.f)\n",
    "        p = np.random.rand(n)\n",
    "        x = np.empty([2, p.shape[0]])\n",
    "        lf = len(f_cum)\n",
    "        lx = len(xs)-1\n",
    "        ly = len(ys)-1\n",
    "        for i in range(lf):\n",
    "            x[0, p < f_cum[lf-1-i]] = xs[lx]\n",
    "            x[1, p < f_cum[lf-1-i]] = ys[ly]\n",
    "            if ly == 0:\n",
    "                lx -= 1\n",
    "                ly = len(ys)-1\n",
    "            else:\n",
    "                ly -= 1\n",
    "        self.x = x\n",
    "        self.n = n\n",
    "\n",
    "    def marg_dist(self):\n",
    "        '''marginal distribution'''\n",
    "        x = self.x\n",
    "        xs = self.xs\n",
    "        ys = self.ys\n",
    "        n = self.n\n",
    "        xmp = [np.sum(x[0, :] == xs[i])/n for i in range(len(xs))]\n",
    "        ymp = [np.sum(x[1, :] == ys[i])/n for i in range(len(ys))]\n",
    "\n",
    "        # print output\n",
    "        xmtb = pt.PrettyTable()\n",
    "        ymtb = pt.PrettyTable()\n",
    "        xmtb.field_names = ['x_value', 'x_prob']\n",
    "        ymtb.field_names = ['y_value', 'y_prob']\n",
    "        for i in range(max(len(xs), len(ys))):\n",
    "            if i < len(xs):\n",
    "                xmtb.add_row([xs[i], xmp[i]])\n",
    "            if i < len(ys):\n",
    "                ymtb.add_row([ys[i], ymp[i]])\n",
    "        xmtb.add_row(['sum', np.sum(xmp)])\n",
    "        ymtb.add_row(['sum', np.sum(ymp)])\n",
    "        print(\"\\nmarginal distribution for x\\n\", xmtb)\n",
    "        print(\"\\nmarginal distribution for y\\n\", ymtb)\n",
    "\n",
    "        self.xmp = xmp\n",
    "        self.ymp = ymp\n",
    "\n",
    "    def cond_dist(self):\n",
    "        '''conditional distribution'''\n",
    "        x = self.x\n",
    "        xs = self.xs\n",
    "        ys = self.ys\n",
    "        n = self.n\n",
    "        xcp = np.empty([len(ys), len(xs)])\n",
    "        ycp = np.empty([len(xs), len(ys)])\n",
    "        for i in range(max(len(ys), len(xs))):\n",
    "            if i < len(ys):\n",
    "                xi = x[0, x[1, :] == ys[i]]\n",
    "                idx = xi.reshape(len(xi), 1) == xs.reshape(1, len(xs))\n",
    "                xcp[i, :] = np.sum(idx, 0)/len(xi)\n",
    "            if i < len(xs):\n",
    "                yi = x[1, x[0, :] == xs[i]]\n",
    "                idy = yi.reshape(len(yi), 1) == ys.reshape(1, len(ys))\n",
    "                ycp[i, :] = np.sum(idy, 0)/len(yi)\n",
    "\n",
    "        # print output\n",
    "        xctb = pt.PrettyTable()\n",
    "        yctb = pt.PrettyTable()\n",
    "        xctb.field_names = ['x_value', *xs, 'sum']\n",
    "        yctb.field_names = ['y_value', *ys, 'sum']\n",
    "        for i in range(max(len(xs), len(ys))):\n",
    "            if i < len(ys):\n",
    "                xctb.add_row([ys[i], *xcp[i], np.sum(xcp[i])])\n",
    "            if i < len(xs):\n",
    "                yctb.add_row([xs[i], *ycp[i], np.sum(ycp[i])])\n",
    "        print(\"\\nconditional distribution for x\\n\", xctb)\n",
    "        print(\"\\nconditional distribution for y\\n\", yctb)\n",
    "\n",
    "        self.xcp = xcp\n",
    "        self.xyp = ycp\n",
    "      \n",
    "      \n",
    "        \n",
    "        \n",
    "xs_new = np.array([10, 20, 30])\n",
    "ys_new = np.array([1, 2])\n",
    "f_new = np.array([[0.2, 0.1], [0.1, 0.3], [0.15, 0.15]])\n",
    "d_new = discrete_bijoint(f_new, xs_new, ys_new)\n",
    "d_new.joint_tb()"
   ]
  },
  {
   "cell_type": "code",
   "execution_count": null,
   "metadata": {},
   "outputs": [],
   "source": [
    "# %matplotlib notebook\n",
    "\n",
    "fig = plt.figure()\n",
    "ax = plt.axes(projection='3d')\n",
    "\n",
    "surf = ax.plot_surface(x_mesh, y_mesh, func(x_mesh, y_mesh), cmap='viridis')\n",
    "plt.show()"
   ]
  },
  {
   "cell_type": "code",
   "execution_count": 16,
   "metadata": {},
   "outputs": [
    {
     "data": {
      "text/plain": [
       "array([[1.        , 0.19834097],\n",
       "       [0.19834097, 1.        ]])"
      ]
     },
     "execution_count": 16,
     "metadata": {},
     "output_type": "execute_result"
    }
   ],
   "source": [
    "r = np.corrcoef(df['charges'], df['bmi'])\n",
    "r"
   ]
  },
  {
   "cell_type": "code",
   "execution_count": 19,
   "metadata": {},
   "outputs": [
    {
     "data": {
      "text/plain": [
       "0.11939590358331147"
      ]
     },
     "execution_count": 19,
     "metadata": {},
     "output_type": "execute_result"
    }
   ],
   "source": [
    "res = stats.spearmanr(df['charges'], df['bmi'])\n",
    "res.statistic"
   ]
  },
  {
   "cell_type": "code",
   "execution_count": 20,
   "metadata": {},
   "outputs": [
    {
     "name": "stdout",
     "output_type": "stream",
     "text": [
      "Pearsons correlation: 0.198\n"
     ]
    }
   ],
   "source": [
    "# Import those libraries\n",
    "import pandas as pd\n",
    "from scipy.stats import pearsonr\n",
    "# Apply the pearsonr()\n",
    "corr, _ = pearsonr(df['charges'], df['bmi'])\n",
    "print('Pearsons correlation: %.3f' % corr)"
   ]
  },
  {
   "cell_type": "code",
   "execution_count": 18,
   "metadata": {},
   "outputs": [
    {
     "data": {
      "text/plain": [
       "array([[1.46652372e+08, 1.46473044e+04],\n",
       "       [1.46473044e+04, 3.71878836e+01]])"
      ]
     },
     "execution_count": 18,
     "metadata": {},
     "output_type": "execute_result"
    }
   ],
   "source": [
    "statistics.covariance(df['charges'], df['bmi'])\n",
    "cov_matrix = np.cov(df['charges'], df['bmi'])\n",
    "cov_matrix"
   ]
  },
  {
   "cell_type": "code",
   "execution_count": 5,
   "metadata": {},
   "outputs": [
    {
     "data": {
      "text/plain": [
       "14647.30442632216"
      ]
     },
     "execution_count": 5,
     "metadata": {},
     "output_type": "execute_result"
    }
   ],
   "source": [
    "statistics.covariance(df['charges'], df['bmi'])"
   ]
  },
  {
   "cell_type": "code",
   "execution_count": 26,
   "metadata": {},
   "outputs": [
    {
     "name": "stdout",
     "output_type": "stream",
     "text": [
      "8.384999999999998\n",
      "Upper Bound: 47.265\n",
      "9\n",
      "Lower Bound: 13.725000000000005\n",
      "0\n"
     ]
    }
   ],
   "source": [
    "# IQR\n",
    "Q1 = np.percentile(df['bmi'], 25, method='midpoint')\n",
    "Q3 = np.percentile(df['bmi'], 75, method='midpoint')\n",
    "IQR = Q3 - Q1\n",
    "print(IQR)\n",
    "# Above Upper bound\n",
    "upper = Q3+1.5*IQR\n",
    "upper_array = np.array(df['bmi'] >= upper)\n",
    "print(\"Upper Bound:\", upper)\n",
    "print(upper_array.sum())\n",
    "\n",
    "# Below Lower bound\n",
    "lower = Q1-1.5*IQR\n",
    "lower_array = np.array(df['bmi'] <= lower)\n",
    "print(\"Lower Bound:\", lower)\n",
    "print(lower_array.sum())\n"
   ]
  },
  {
   "cell_type": "code",
   "execution_count": 27,
   "metadata": {},
   "outputs": [
    {
     "name": "stdout",
     "output_type": "stream",
     "text": [
      "[16884.924, 1725.5523, 4449.462, 21984.47061, 3866.8552, 3756.6216, 8240.5896, 7281.5056, 6406.4107, 28923.13692, 2721.3208, 27808.7251, 1826.843, 11090.7178, 1837.237, 10797.3362, 2395.17155, 10602.385, 36837.467, 13228.84695, 4149.736, 1137.011, 6203.90175, 14001.1338, 14451.83515, 12268.63225, 2775.19215, 35585.576, 2198.18985, 4687.797, 13770.0979, 1625.43375, 15612.19335, 2302.3, 3046.062, 4949.7587, 6272.4772, 6313.759, 6079.6715, 20630.28351, 3393.35635, 3556.9223, 12629.8967, 2211.13075, 3579.8287, 23568.272, 8059.6791, 13607.36875, 34303.1672, 23244.7902, 5989.52365, 8606.2174, 4504.6624, 30166.61817, 4133.64165, 14711.7438, 1743.214, 14235.072, 6389.37785, 5920.1041, 17663.1442, 16577.7795, 6799.458, 11741.726, 11946.6259, 7726.854, 11356.6609, 3947.4131, 1532.4697, 2755.02095, 6571.02435, 4441.21315, 7935.29115, 37165.1638, 11033.6617, 21098.55405, 11073.176, 8026.6666, 11082.5772, 2026.9741, 10942.13205, 30184.9367, 5729.0053, 3766.8838, 12105.32, 10226.2842, 22412.6485, 15820.699, 6186.127, 3645.0894, 21344.8467, 30942.1918, 5003.853, 17560.37975, 2331.519, 3877.30425, 2867.1196, 10825.2537, 11881.358, 4646.759, 2404.7338, 11488.31695, 30259.99556, 11381.3254, 19107.7796, 8601.3293, 6686.4313, 7740.337, 1705.6245, 2257.47525, 10115.00885, 3385.39915, 17081.08, 9634.538, 32734.1863, 6082.405, 12815.44495, 13616.3586, 11163.568, 1632.56445, 2457.21115, 2155.6815, 1261.442, 2045.68525, 27322.73386, 2166.732, 27375.90478, 3490.5491, 18972.495, 18157.876, 20745.9891, 5138.2567, 9877.6077, 10959.6947, 1842.519, 5125.2157, 7789.635, 6334.34355, 19964.7463, 7077.1894, 6948.7008, 21223.6758, 15518.18025, 36950.2567, 19749.38338, 21348.706, 36149.4835, 10450.552, 5152.134, 5028.1466, 10407.08585, 4830.63, 6128.79745, 2719.27975, 4827.90495, 13405.3903, 8116.68, 1694.7964, 5246.047, 2855.43755, 6455.86265, 10436.096, 8823.279, 8538.28845, 11735.87905, 1631.8212, 4005.4225, 7419.4779, 7731.4271, 3981.9768, 5325.651, 6775.961, 4922.9159, 12557.6053, 4883.866, 2137.6536, 12044.342, 1137.4697, 1639.5631, 5649.715, 8516.829, 9644.2525, 14901.5167, 2130.6759, 8871.1517, 13012.20865, 37133.8982, 7147.105, 4337.7352, 11743.299, 20984.0936, 13880.949, 6610.1097, 1980.07, 8162.71625, 3537.703, 5002.7827, 8520.026, 7371.772, 10355.641, 2483.736, 3392.9768, 25081.76784, 5012.471, 10564.8845, 5253.524, 34779.615, 19515.5416, 11987.1682, 2689.4954, 24227.33724, 7358.17565, 9225.2564, 7443.64305, 14001.2867, 1727.785, 12333.828, 6710.1919, 19444.2658, 1615.7667, 4463.2051, 17352.6803, 7152.6714, 5354.07465, 35160.13457, 7196.867, 29523.1656, 24476.47851, 12648.7034, 1986.9334, 1832.094, 4040.55825, 12829.4551, 4260.744, 13047.33235, 5400.9805, 11520.09985, 33750.2918, 11837.16, 17085.2676, 24869.8368, 36219.40545, 20462.99766, 17179.522, 14590.63205, 7441.053, 9282.4806, 1719.4363, 7265.7025, 9617.66245, 2523.1695, 9715.841, 2803.69785, 2150.469, 12928.7911, 9855.1314, 22331.5668, 4237.12655, 11879.10405, 9625.92, 7742.1098, 9432.9253, 14256.1928, 25992.82104, 3172.018, 20277.80751, 2156.7518, 3906.127, 1704.5681, 16297.846, 21978.6769, 9249.4952, 6746.7425, 24873.3849, 12265.5069, 4349.462, 12646.207, 19442.3535, 20177.67113, 4151.0287, 11944.59435, 7749.1564, 8444.474, 1737.376, 8124.4084, 34838.873, 9722.7695, 8835.26495, 10435.06525, 7421.19455, 4667.60765, 4894.7533, 24671.66334, 35491.64, 11566.30055, 2866.091, 6600.20595, 3561.8889, 9144.565, 24393.6224, 13429.0354, 11658.37915, 19144.57652, 13822.803, 12142.5786, 13937.6665, 8232.6388, 18955.22017, 13352.0998, 13217.0945, 13981.85035, 10977.2063, 6184.2994, 4889.9995, 8334.45755, 5478.0368, 1635.73365, 11830.6072, 8932.084, 3554.203, 12404.8791, 14133.03775, 24603.04837, 8944.1151, 9620.3307, 1837.2819, 1607.5101, 10043.249, 4751.07, 13844.506, 2597.779, 3180.5101, 9778.3472, 13430.265, 8017.06115, 8116.26885, 3481.868, 13415.0381, 12029.2867, 7639.41745, 36085.219, 1391.5287, 18033.9679, 21659.9301, 16455.70785, 27000.98473, 15006.57945, 20781.48892, 5846.9176, 8302.53565, 1261.859, 11856.4115, 30284.64294, 3176.8159, 4618.0799, 10736.87075, 2138.0707, 8964.06055, 9290.1395, 9411.005, 7526.70645, 8522.003, 16586.49771, 14988.432, 1631.6683, 9264.797, 8083.9198, 14692.66935, 10269.46, 3260.199, 11396.9002, 4185.0979, 8539.671, 6652.5288, 4074.4537, 1621.3402, 19594.80965, 14455.64405, 5080.096, 2134.9015, 7345.7266, 9140.951, 18608.262, 14418.2804, 28950.4692, 2727.3951, 8968.33, 9788.8659, 6555.07035, 7323.734819, 3167.45585, 18804.7524, 23082.95533, 4906.40965, 5969.723, 12638.195, 4243.59005, 13919.8229, 2254.7967, 5926.846, 12592.5345, 2897.3235, 4738.2682, 37079.372, 1149.3959, 28287.89766, 26109.32905, 7345.084, 12730.9996, 11454.0215, 5910.944, 4762.329, 7512.267, 4032.2407, 1969.614, 1769.53165, 4686.3887, 21797.0004, 11881.9696, 11840.77505, 10601.412, 7682.67, 10381.4787, 22144.032, 15230.32405, 11165.41765, 1632.03625, 19521.9682, 13224.693, 12643.3778, 23288.9284, 2201.0971, 2497.0383, 2203.47185, 1744.465, 20878.78443, 25382.297, 28868.6639, 35147.52848, 2534.39375, 1534.3045, 1824.2854, 15555.18875, 9304.7019, 1622.1885, 9880.068, 9563.029, 4347.02335, 12475.3513, 1253.936, 10461.9794, 1748.774, 24513.09126, 2196.4732, 12574.049, 17942.106, 1967.0227, 4931.647, 8027.968, 8211.1002, 13470.86, 36197.699, 6837.3687, 22218.1149, 32548.3405, 5974.3847, 6796.86325, 2643.2685, 3077.0955, 3044.2133, 11455.28, 11763.0009, 2498.4144, 9361.3268, 1256.299, 21082.16, 11362.755, 27724.28875, 8413.46305, 5240.765, 3857.75925, 25656.57526, 3994.1778, 9866.30485, 5397.6167, 11482.63485, 24059.68019, 9861.025, 8342.90875, 1708.0014, 14043.4767, 12925.886, 19214.70553, 13831.1152, 6067.12675, 5972.378, 8825.086, 8233.0975, 27346.04207, 6196.448, 3056.3881, 13887.204, 10231.4999, 23807.2406, 3268.84665, 11538.421, 3213.62205, 13390.559, 3972.9247, 12957.118, 11187.6567, 17878.90068, 3847.674, 8334.5896, 3935.1799, 1646.4297, 9193.8385, 10923.9332, 2494.022, 9058.7303, 2801.2588, 2128.43105, 6373.55735, 7256.7231, 11552.904, 3761.292, 2219.4451, 4753.6368, 31620.00106, 13224.05705, 12222.8983, 1664.9996, 9724.53, 3206.49135, 12913.9924, 1639.5631, 6356.2707, 17626.23951, 1242.816, 4779.6023, 3861.20965, 13635.6379, 5976.8311, 11842.442, 8428.0693, 2566.4707, 15359.1045, 5709.1644, 8823.98575, 7640.3092, 5594.8455, 7441.501, 33471.97189, 1633.0444, 9174.13565, 11070.535, 16085.1275, 17468.9839, 9283.562, 3558.62025, 25678.77845, 4435.0942, 8547.6913, 6571.544, 2207.69745, 6753.038, 1880.07, 11658.11505, 23306.547, 34439.8559, 10713.644, 3659.346, 9182.17, 34617.84065, 12129.61415, 3736.4647, 6748.5912, 11326.71487, 11365.952, 10085.846, 1977.815, 3366.6697, 7173.35995, 9391.346, 14410.9321, 2709.1119, 24915.04626, 20149.3229, 12949.1554, 6666.243, 32787.45859, 13143.86485, 4466.6214, 18806.14547, 10141.1362, 6123.5688, 8252.2843, 1712.227, 12430.95335, 9800.8882, 10579.711, 8280.6227, 8527.532, 12244.531, 24667.419, 3410.324, 4058.71245, 26392.26029, 14394.39815, 6435.6237, 22192.43711, 5148.5526, 1136.3994, 27037.9141, 8703.456, 6500.2359, 4837.5823, 3943.5954, 4399.731, 6185.3208, 7222.78625, 12485.8009, 12363.547, 10156.7832, 2585.269, 1242.26, 9863.4718, 4766.022, 11244.3769, 7729.64575, 5438.7491, 26236.57997, 34806.4677, 2104.1134, 8068.185, 2362.22905, 2352.96845, 3577.999, 3201.24515, 29186.48236, 10976.24575, 3500.6123, 2020.5523, 9541.69555, 9504.3103, 5385.3379, 8930.93455, 5375.038, 10264.4421, 6113.23105, 5469.0066, 1727.54, 10107.2206, 8310.83915, 1984.4533, 2457.502, 12146.971, 9566.9909, 13112.6048, 10848.1343, 12231.6136, 9875.6804, 11264.541, 12979.358, 1263.249, 10106.13425, 6664.68595, 16657.71745, 2217.6012, 6781.3542, 19361.9988, 10065.413, 4234.927, 9447.25035, 14007.222, 9583.8933, 3484.331, 36189.1017, 8604.48365, 18246.4955, 3757.8448, 8827.2099, 9910.35985, 11737.84884, 1627.28245, 8556.907, 3062.50825, 19539.243, 1906.35825, 14210.53595, 11833.7823, 17128.42608, 5031.26955, 7985.815, 23065.4207, 5428.7277, 36307.7983, 3925.7582, 2416.955, 19040.876, 3070.8087, 9095.06825, 11842.62375, 8062.764, 7050.642, 14319.031, 6933.24225, 27941.28758, 11150.78, 12797.20962, 17748.5062, 7261.741, 10560.4917, 6986.697, 7448.40395, 5934.3798, 9869.8102, 18259.216, 1146.7966, 9386.1613, 24520.264, 4350.5144, 6414.178, 12741.16745, 1917.3184, 5209.57885, 13457.9608, 5662.225, 1252.407, 2731.9122, 21195.818, 7209.4918, 18310.742, 4266.1658, 4719.52405, 11848.141, 17904.52705, 7046.7222, 14313.8463, 2103.08, 1815.8759, 7731.85785, 28476.73499, 2136.88225, 1131.5066, 3309.7926, 9414.92, 6360.9936, 11013.7119, 4428.88785, 5584.3057, 1877.9294, 2842.76075, 3597.596, 23401.30575, 7445.918, 2680.9493, 1621.8827, 8219.2039, 12523.6048, 16069.08475, 20773.62775, 6117.4945, 13393.756, 5266.3656, 4719.73655, 11743.9341, 5377.4578, 7160.3303, 4402.233, 11657.7189, 6402.29135, 12622.1795, 1526.312, 12323.936, 36021.0112, 27533.9129, 10072.05505, 9872.701, 2438.0552, 2974.126, 10601.63225, 37270.1512, 14119.62, 11729.6795, 24106.91255, 1875.344, 15817.9857, 18218.16139, 10965.446, 7151.092, 12269.68865, 5458.04645, 8782.469, 6600.361, 1141.4451, 11576.13, 13129.60345, 4391.652, 8457.818, 3392.3652, 5966.8874, 6849.026, 8891.1395, 2690.1138, 26140.3603, 6653.7886, 6282.235, 6311.952, 3443.064, 2789.0574, 2585.85065, 4877.98105, 19719.6947, 27218.43725, 5272.1758, 1682.597, 11945.1327, 29330.98315, 7243.8136, 10422.91665, 13555.0049, 13063.883, 19798.05455, 2221.56445, 1634.5734, 2117.33885, 8688.85885, 4661.28635, 8125.7845, 12644.589, 4564.19145, 4846.92015, 7633.7206, 15170.069, 17496.306, 2639.0429, 33732.6867, 14382.70905, 7626.993, 5257.50795, 2473.3341, 21774.32215, 35069.37452, 13041.921, 5245.2269, 13451.122, 13462.52, 5488.262, 4320.41085, 6250.435, 25333.33284, 2913.569, 12032.326, 13470.8044, 6289.7549, 2927.0647, 6238.298, 10096.97, 7348.142, 4673.3922, 12233.828, 32108.66282, 8965.79575, 2304.0022, 9487.6442, 1121.8739, 9549.5651, 2217.46915, 1628.4709, 12982.8747, 11674.13, 7160.094, 6358.77645, 19933.458, 11534.87265, 4527.18295, 20009.63365, 3875.7341, 12609.88702, 28468.91901, 2730.10785, 3353.284, 14474.675, 9500.57305, 26467.09737, 4746.344, 23967.38305, 7518.02535, 3279.86855, 8596.8278, 10702.6424, 4992.3764, 2527.81865, 1759.338, 2322.6218, 16138.76205, 7804.1605, 2902.9065, 9704.66805, 4889.0368, 25517.11363, 4500.33925, 19199.944, 16796.41194, 4915.05985, 7624.63, 8410.04685, 28340.18885, 4518.82625, 14571.8908, 3378.91, 7144.86265, 10118.424, 5484.4673, 16420.49455, 7986.47525, 7418.522, 13887.9685, 6551.7501, 5267.81815, 17361.7661, 34472.841, 1972.95, 21232.18226, 8627.5411, 4433.3877, 4438.2634, 24915.22085, 23241.47453, 9957.7216, 8269.044, 18767.7377, 36580.28216, 8765.249, 5383.536, 12124.9924, 2709.24395, 3987.926, 12495.29085, 26018.95052, 8798.593, 35595.5898, 1711.0268, 8569.8618, 2020.177, 16450.8947, 21595.38229, 9850.432, 6877.9801, 21677.28345, 4137.5227, 13747.87235, 12950.0712, 12094.478, 2250.8352, 22493.65964, 20234.85475, 1704.70015, 33475.81715, 3161.454, 11394.06555, 21880.82, 7325.0482, 3594.17085, 8023.13545, 14394.5579, 9288.0267, 25309.489, 3353.4703, 10594.50155, 8277.523, 17929.30337, 2480.9791, 4462.7218, 1981.5819, 11554.2236, 6548.19505, 5708.867, 7045.499, 8978.1851, 5757.41345, 14349.8544, 10928.849, 13974.45555, 1909.52745, 12096.6512, 13204.28565, 4562.8421, 8551.347, 2102.2647, 34672.1472, 15161.5344, 11884.04858, 4454.40265, 5855.9025, 4076.497, 15019.76005, 19023.26, 10796.35025, 11353.2276, 9748.9106, 10577.087, 11286.5387, 3591.48, 33907.548, 11299.343, 4561.1885, 1674.6323, 23045.56616, 3227.1211, 16776.30405, 11253.421, 3471.4096, 11363.2832, 20420.60465, 10338.9316, 8988.15875, 10493.9458, 2904.088, 8605.3615, 11512.405, 24180.9335, 5312.16985, 2396.0959, 10807.4863, 9222.4026, 36124.5737, 5693.4305, 34166.273, 8347.1643, 18903.49141, 14254.6082, 10214.636, 5836.5204, 14358.36437, 1728.897, 8582.3023, 3693.428, 20709.02034, 9991.03765, 19673.33573, 11085.5868, 7623.518, 3176.2877, 3704.3545, 36898.73308, 9048.0273, 7954.517, 27117.99378, 6338.0756, 9630.397, 11289.10925, 2261.5688, 10791.96, 5979.731, 2203.73595, 12235.8392, 5630.45785, 11015.1747, 7228.21565, 14426.07385, 2459.7201, 3989.841, 7727.2532, 5124.1887, 18963.17192, 2200.83085, 7153.5539, 5227.98875, 10982.5013, 4529.477, 4670.64, 6112.35295, 17178.6824, 22478.6, 11093.6229, 6457.8434, 4433.9159, 2154.361, 23887.6627, 6496.886, 2899.48935, 19350.3689, 7650.77375, 2850.68375, 2632.992, 9447.3824, 18328.2381, 8603.8234, 37465.34375, 13844.7972, 21771.3423, 13126.67745, 5327.40025, 13725.47184, 13019.16105, 8671.19125, 4134.08245, 18838.70366, 33307.5508, 5699.8375, 6393.60345, 4934.705, 6198.7518, 8733.22925, 2055.3249, 9964.06, 18223.4512, 5116.5004, 36910.60803, 20296.86345, 12347.172, 5373.36425, 23563.01618, 1702.4553, 10806.839, 3956.07145, 12890.05765, 5415.6612, 4058.1161, 7537.1639, 4718.20355, 6593.5083, 8442.667, 26125.67477, 6858.4796, 4795.6568, 6640.54485, 7162.0122, 10594.2257, 11938.25595, 20167.33603, 12479.70895, 11345.519, 8515.7587, 2699.56835, 14449.8544, 12224.35085, 6985.50695, 3238.4357, 4296.2712, 3171.6149, 1135.9407, 5615.369, 9101.798, 6059.173, 1633.9618, 18648.4217, 1241.565, 16232.847, 15828.82173, 4415.1588, 6474.013, 11436.73815, 11305.93455, 30063.58055, 10197.7722, 4544.2348, 3277.161, 6770.1925, 7337.748, 10370.91255, 26926.5144, 10704.47, 34254.05335, 1880.487, 8615.3, 3292.52985, 3021.80915, 14478.33015, 4747.0529, 17043.3414, 10959.33, 2741.948, 4357.04365, 22462.04375, 4189.1131, 8283.6807, 24535.69855, 14283.4594, 1720.3537, 8534.6718, 3732.6251, 5472.449, 7147.4728, 7133.9025, 34828.654, 1515.3449, 9301.89355, 11931.12525, 1964.78, 1708.92575, 4340.4409, 5261.46945, 2710.82855, 3208.787, 21259.37795, 2464.6188, 16115.3045, 21472.4788, 33900.653, 6875.961, 6940.90985, 4571.41305, 4536.259, 36397.576, 18765.87545, 11272.33139, 1731.677, 1163.4627, 19496.71917, 7201.70085, 5425.02335, 28101.33305, 12981.3457, 4239.89265, 13143.33665, 7050.0213, 9377.9047, 22395.74424, 10325.206, 12629.1656, 10795.93733, 11411.685, 10600.5483, 2205.9808, 1629.8335, 2007.945, 29141.3603]\n"
     ]
    }
   ],
   "source": [
    "import numpy as np\n",
    "elements = np.array(df['charges'])\n",
    "\n",
    "mean = np.mean(elements, axis=0)\n",
    "sd = np.std(elements, axis=0)\n",
    "\n",
    "final_list = [x for x in df['charges'] if (x > mean - 2 * sd)]\n",
    "final_list = [x for x in final_list if (x < mean + 2 * sd)]\n",
    "print(final_list)"
   ]
  },
  {
   "cell_type": "code",
   "execution_count": 38,
   "metadata": {},
   "outputs": [
    {
     "name": "stdout",
     "output_type": "stream",
     "text": [
      "chi2: 55.0 110.0 0.3813850356982369 0.21818181818181817\n",
      "T_student: 0.0 3.7027027027027017 nan inf\n",
      "F: 1.125 0.2805572660098522 1.8065676503195025 7.074636015325671\n"
     ]
    }
   ],
   "source": [
    "import numpy as np\n",
    "import scipy.stats as s\n",
    "import matplotlib.pyplot as plt\n",
    "df = 55\n",
    "mean, var, skew, kurt = s.chi2.stats(df, moments='mvsk')\n",
    "print(\"chi2:\",mean, var, skew, kurt)\n",
    "df = 2.74\n",
    "mean, var, skew, kurt = s.t.stats(df, moments='mvsk')\n",
    "print(\"T_student:\",mean, var, skew, kurt)\n",
    "dfn, dfd = 29, 18\n",
    "mean, var, skew, kurt = s.f.stats(dfn, dfd, moments='mvsk')\n",
    "print(\"F:\",mean, var, skew, kurt)"
   ]
  },
  {
   "cell_type": "code",
   "execution_count": 32,
   "metadata": {},
   "outputs": [
    {
     "name": "stdout",
     "output_type": "stream",
     "text": [
      "55.0 110.0 0.3813850356982369 0.21818181818181817\n"
     ]
    }
   ],
   "source": [
    "df = 55\n",
    "mean, var, skew, kurt = chi2.stats(df, moments='mvsk')\n",
    "print(mean, var, skew, kurt)"
   ]
  },
  {
   "cell_type": "code",
   "execution_count": 51,
   "metadata": {},
   "outputs": [
    {
     "data": {
      "text/plain": [
       "(2.962098014195961, 4.837901985804038)"
      ]
     },
     "execution_count": 51,
     "metadata": {},
     "output_type": "execute_result"
    }
   ],
   "source": [
    "import numpy as np \n",
    "import scipy.stats as s\n",
    "\n",
    "# define sample data \n",
    "gfg_data = [1, 1, 1, 2, 2, 2, 3, 3, 3, 3, \n",
    "\t\t\t3, 4, 4, 5, 5, 5, 6, 7, 8, 10] \n",
    "\n",
    "# create 90% confidence interval \n",
    "s.t.interval(confidence=0.90, df=len(gfg_data)-1, \n",
    "\t\t\tloc=np.mean(gfg_data), \n",
    "\t\t\tscale=s.sem(gfg_data)) \n"
   ]
  },
  {
   "cell_type": "code",
   "execution_count": 53,
   "metadata": {},
   "outputs": [
    {
     "data": {
      "text/plain": [
       "(6.994373420517911, 7.40562657948209)"
      ]
     },
     "execution_count": 53,
     "metadata": {},
     "output_type": "execute_result"
    }
   ],
   "source": [
    "import numpy as np \n",
    "import scipy.stats as st \n",
    "\n",
    "# define sample data \n",
    "gfg_data = np.random.randint(5, 10, 100) \n",
    "\n",
    "# create 90% confidence interval \n",
    "# for population mean weight \n",
    "st.norm.interval( confidence=0.850,\n",
    "\t\t\t\tloc=np.mean(gfg_data), \n",
    "\t\t\t\tscale=st.sem(gfg_data)) \n"
   ]
  },
  {
   "cell_type": "code",
   "execution_count": 55,
   "metadata": {},
   "outputs": [
    {
     "name": "stdout",
     "output_type": "stream",
     "text": [
      "T-statistic (from scipy): -9.0\n",
      "P-value (from scipy): 8.538051223166285e-06\n",
      "T-statistic (calculated manually): -9.0\n",
      "Decision: Reject the null hypothesis at alpha=0.05.\n",
      "Conclusion: There is statistically significant evidence that the average blood pressure before and after treatment with the new drug is different.\n"
     ]
    }
   ],
   "source": [
    "import numpy as np\n",
    "from scipy import stats\n",
    "\n",
    "# Data\n",
    "before_treatment = np.array([120, 122, 118, 130, 125, 128, 115, 121, 123, 119])\n",
    "after_treatment = np.array([115, 120, 112, 128, 122, 125, 110, 117, 119, 114])\n",
    "\n",
    "# Step 1: Null and Alternate Hypotheses\n",
    "# Null Hypothesis: The new drug has no effect on blood pressure.\n",
    "# Alternate Hypothesis: The new drug has an effect on blood pressure.\n",
    "null_hypothesis = \"The new drug has no effect on blood pressure.\"\n",
    "alternate_hypothesis = \"The new drug has an effect on blood pressure.\"\n",
    "\n",
    "# Step 2: Significance Level\n",
    "alpha = 0.05\n",
    "\n",
    "# Step 3: Paired T-test\n",
    "t_statistic, p_value = stats.ttest_rel(after_treatment, before_treatment)\n",
    "\n",
    "# Step 4: Calculate T-statistic manually\n",
    "m = np.mean(after_treatment - before_treatment)\n",
    "s = np.std(after_treatment - before_treatment, ddof=1) # using ddof=1 for sample standard deviation\n",
    "n = len(before_treatment)\n",
    "t_statistic_manual = m / (s / np.sqrt(n))\n",
    "\n",
    "# Step 5: Decision\n",
    "if p_value <= alpha:\n",
    "\tdecision = \"Reject\"\n",
    "else:\n",
    "\tdecision = \"Fail to reject\"\n",
    "\n",
    "# Conclusion\n",
    "if decision == \"Reject\":\n",
    "\tconclusion = \"There is statistically significant evidence that the average blood pressure before and after treatment with the new drug is different.\"\n",
    "else:\n",
    "\tconclusion = \"There is insufficient evidence to claim a significant difference in average blood pressure before and after treatment with the new drug.\"\n",
    "\n",
    "# Display results\n",
    "print(\"T-statistic (from scipy):\", t_statistic)\n",
    "print(\"P-value (from scipy):\", p_value)\n",
    "print(\"T-statistic (calculated manually):\", t_statistic_manual)\n",
    "print(f\"Decision: {decision} the null hypothesis at alpha={alpha}.\")\n",
    "print(\"Conclusion:\", conclusion)\n"
   ]
  }
 ],
 "metadata": {
  "kernelspec": {
   "display_name": "Python 3",
   "language": "python",
   "name": "python3"
  },
  "language_info": {
   "codemirror_mode": {
    "name": "ipython",
    "version": 3
   },
   "file_extension": ".py",
   "mimetype": "text/x-python",
   "name": "python",
   "nbconvert_exporter": "python",
   "pygments_lexer": "ipython3",
   "version": "3.12.3"
  },
  "orig_nbformat": 4
 },
 "nbformat": 4,
 "nbformat_minor": 2
}
